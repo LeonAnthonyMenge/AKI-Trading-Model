{
 "cells": [
  {
   "cell_type": "markdown",
   "metadata": {},
   "source": [
    "# Collect Data for Test 1\n",
    "- YFinance Data\n",
    "- Weekdays (int)\n",
    "- Month (int)\n",
    "- Trend (int)\n",
    "- Buy or Sell"
   ]
  },
  {
   "cell_type": "code",
   "execution_count": 1,
   "metadata": {
    "ExecuteTime": {
     "start_time": "2024-11-01T10:13:12.240288Z"
    },
    "is_executing": true
   },
   "outputs": [],
   "source": [
    "import pandas as pd\n",
    "from datetime import datetime\n",
    "import yfinance as yf\n",
    "from functools import reduce\n",
    "import os"
   ]
  },
  {
   "cell_type": "code",
   "execution_count": 2,
   "metadata": {},
   "outputs": [],
   "source": [
    "def get_finance_data(symbols: list, period: str = \"max\", start: str = None, end: str = None, interval: str = \"1d\") -> pd.DataFrame:\n",
    "    \"\"\"\n",
    "    Args:\n",
    "        symbols (list): \n",
    "            List of Symbols, whitch we want to get data for\n",
    "        period (str, optional): \n",
    "            Valid periods: 1d,5d,1mo,3mo,6mo,1y,2y,5y,10y,ytd,max\n",
    "            Either Use period parameter or use start and end. Defaults to \"max\".\n",
    "        start (str, optional): \n",
    "            start date in YYYY-MM-DD format. \n",
    "            Defaults to None.\n",
    "        end (str, optional): \n",
    "            end date in YYYY-MM-DD format. \n",
    "            Defaults to None.\n",
    "        interval (str, optional): \n",
    "            Valid intervals: 1m,2m,5m,15m,30m,60m,90m,1h,1d,5d,1wk,1mo,3mo\n",
    "            Intraday data cannot extend last 60 days. \n",
    "            Defaults to \"1d\".\n",
    "\n",
    "    Returns:\n",
    "        pd.DataFrame: Contains the optimized finance data for the given symbols grouped by column\n",
    "    \"\"\"\n",
    "    # Fetch data\n",
    "    df = yf.download(tickers=symbols, start=start, end=end, period=period, interval=interval)\n",
    "    \n",
    "    df.reset_index(inplace=True)\n",
    "    df['Date'] = pd.to_datetime(df['Date'])\n",
    "    # Add Month and Day information\n",
    "    df[\"month\"] = df['Date'].dt.strftime('%m').astype(int)\n",
    "    df['weekday'] = df['Date'].dt.dayofweek.astype(int)\n",
    "    \n",
    "    # return data\n",
    "    os.makedirs(\"Test4-Raw Material/Data\", exist_ok=True)\n",
    "    return df"
   ]
  },
  {
   "cell_type": "code",
   "execution_count": 3,
   "metadata": {},
   "outputs": [],
   "source": [
    "def determine_trend(row) -> int:\n",
    "    \"\"\"\n",
    "    Summary:\n",
    "        Determine if the Close is higher than the Open (last day Close)\n",
    "    Args:\n",
    "        row (_type_): Pandas Dataframe row\n",
    "\n",
    "    Returns:\n",
    "        int: -1 if Trend is going down and 1 if Trend is going up\n",
    "    \"\"\"\n",
    "    print(type(row))\n",
    "    return -1 if row['^GDAXI_Open'] > row['^GDAXI_Close'] else 1"
   ]
  },
  {
   "cell_type": "markdown",
   "metadata": {},
   "source": [
    "## Training Data"
   ]
  },
  {
   "cell_type": "code",
   "execution_count": null,
   "metadata": {},
   "outputs": [],
   "source": [
    "os.makedirs(\"../Data\", exist_ok=True)\n",
    "symbols = [\"^GDAXI\", \"GC=F\", \"BZ=F\"]\n",
    "results = []\n",
    "\n",
    "# Fetch financial data for each symbol and store in results\n",
    "for symbol in symbols:\n",
    "    df = get_finance_data(symbols=symbol, interval=\"1d\", start=datetime(2015, 1, 1), end=datetime(2022, 12, 31))\n",
    "    # Add a prefix based on the symbol for each column (except the date column)\n",
    "    df = df.add_prefix(f\"{symbol}_\").rename(columns={f\"{symbol}_Date\": \"Date\"})\n",
    "    df[\"Symbol\"] = symbol\n",
    "    results.append(df)\n",
    "\n",
    "# Merge all DataFrames on the \"Date\" column using reduce to iterate over all results\n",
    "df = reduce(lambda left, right: pd.merge(left, right, on=\"Date\", how=\"inner\"), results)\n",
    "\n",
    "df = df.dropna(subset=[col for col in df.columns])\n",
    "\n",
    "\n",
    "df[\"Y\"] = None\n",
    "for index, row in df.iterrows():\n",
    "    if index > 0:\n",
    "        df.at[index-1, \"Y\"] = df.at[index, \"^GDAXI_Close\"]\n",
    "df.drop(df.tail(1).index,inplace=True)\n",
    "       \n",
    "df[\"^GDAXI_month\"] = df[\"^GDAXI_month\"].astype(int)\n",
    "df.to_pickle(\"../Data/train_dax_data.pkl\")\n",
    "display(df)"
   ]
  },
  {
   "cell_type": "markdown",
   "metadata": {},
   "source": [
    "## Test Data"
   ]
  },
  {
   "cell_type": "code",
   "execution_count": null,
   "metadata": {},
   "outputs": [],
   "source": [
    "symbols = [\"^GDAXI\", \"GC=F\", \"BZ=F\"]\n",
    "results = []\n",
    "\n",
    "# Fetch financial data for each symbol and store in results\n",
    "for symbol in symbols:\n",
    "    df = get_finance_data(symbols=symbol, interval=\"1d\", start=datetime(2022, 10, 1), end=datetime(2023, 12, 31))\n",
    "    # Add a prefix based on the symbol for each column (except the date column)\n",
    "    df = df.add_prefix(f\"{symbol}_\").rename(columns={f\"{symbol}_Date\": \"Date\"})\n",
    "    df[\"Symbol\"] = symbol\n",
    "    results.append(df)\n",
    "\n",
    "# Merge all DataFrames on the \"Date\" column using reduce to iterate over all results\n",
    "df = reduce(lambda left, right: pd.merge(left, right, on=\"Date\", how=\"inner\"), results)\n",
    "\n",
    "df = df.dropna(subset=[col for col in df.columns])\n",
    "\n",
    "    \n",
    "df[\"Y\"] = None\n",
    "for index, row in df.iterrows():\n",
    "    if index > 0:\n",
    "        df.at[index-1, \"Y\"] = df.at[index, \"^GDAXI_Close\"]\n",
    "df.drop(df.tail(1).index,inplace=True)\n",
    "       \n",
    "df[\"^GDAXI_month\"] = df[\"^GDAXI_month\"].astype(int)\n",
    "df.to_pickle(\"../Data/test_dax_data.pkl\")\n",
    "display(df)"
   ]
  },
  {
   "cell_type": "code",
   "execution_count": null,
   "metadata": {},
   "outputs": [],
   "source": []
  }
 ],
 "metadata": {
  "kernelspec": {
   "display_name": ".venv",
   "language": "python",
   "name": "python3"
  },
  "language_info": {
   "codemirror_mode": {
    "name": "ipython",
    "version": 3
   },
   "file_extension": ".py",
   "mimetype": "text/x-python",
   "name": "python",
   "nbconvert_exporter": "python",
   "pygments_lexer": "ipython3",
   "version": "3.11.9"
  }
 },
 "nbformat": 4,
 "nbformat_minor": 2
}
