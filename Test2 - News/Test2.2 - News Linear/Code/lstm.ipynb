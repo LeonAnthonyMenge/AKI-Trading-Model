{
 "cells": [
  {
   "cell_type": "markdown",
   "metadata": {},
   "source": [
    "# Test 2.2 - News Linear"
   ]
  },
  {
   "cell_type": "markdown",
   "metadata": {},
   "source": [
    "### Import"
   ]
  },
  {
   "cell_type": "code",
   "execution_count": null,
   "metadata": {
    "ExecuteTime": {
     "end_time": "2024-11-01T10:24:56.257526Z",
     "start_time": "2024-11-01T10:24:56.223997Z"
    }
   },
   "outputs": [],
   "source": [
    "import torch\n",
    "import torch.nn as nn\n",
    "import torch.optim as optim\n",
    "from backtesting import Backtest\n",
    "import pandas as pd\n",
    "from sklearn.preprocessing import MinMaxScaler\n",
    "import os\n",
    "from datetime import datetime\n",
    "from lumibot.brokers import Alpaca\n",
    "from lumibot.backtesting import YahooDataBacktesting\n",
    "import matplotlib.pyplot as plt\n",
    "import numpy as np"
   ]
  },
  {
   "cell_type": "code",
   "execution_count": null,
   "metadata": {},
   "outputs": [],
   "source": [
    "file_path = \"../Models/best_model.pt\"\n",
    "\n",
    "# Delete current model\n",
    "if os.path.exists(file_path):\n",
    "    os.remove(file_path)"
   ]
  },
  {
   "cell_type": "markdown",
   "metadata": {},
   "source": [
    "### Device"
   ]
  },
  {
   "cell_type": "code",
   "execution_count": null,
   "metadata": {
    "ExecuteTime": {
     "end_time": "2024-11-01T10:17:07.914668Z",
     "start_time": "2024-11-01T10:17:07.913939Z"
    }
   },
   "outputs": [],
   "source": [
    "if torch.cuda.is_available():\n",
    "    device = \"cuda\"\n",
    "elif torch.backends.mps.is_available():\n",
    "    device = \"mps\"\n",
    "else:\n",
    "    device = \"cpu\"\n",
    "\n",
    "print(f\"Using device: {device}\")"
   ]
  },
  {
   "cell_type": "markdown",
   "metadata": {},
   "source": [
    "### Hyperparameter"
   ]
  },
  {
   "cell_type": "code",
   "execution_count": null,
   "metadata": {
    "ExecuteTime": {
     "end_time": "2024-11-01T10:17:07.916204Z",
     "start_time": "2024-11-01T10:17:07.914992Z"
    }
   },
   "outputs": [],
   "source": [
    "# Model parameter\n",
    "input_size = 17\n",
    "output_size = 1\n",
    "hidden_size = 1000\n",
    "num_layers = 2\n",
    "dropout = 0.3\n",
    "\n",
    "# Training parameter\n",
    "num_epochs = 500 # early stopping\n",
    "learning_rate = 0.00001\n",
    "\n",
    "backtest_name = \"Test2.2\""
   ]
  },
  {
   "cell_type": "markdown",
   "metadata": {},
   "source": [
    "### LSTM Model"
   ]
  },
  {
   "cell_type": "code",
   "execution_count": null,
   "metadata": {
    "ExecuteTime": {
     "start_time": "2024-11-01T10:17:07.916045Z"
    }
   },
   "outputs": [],
   "source": [
    "class Net(nn.Module):\n",
    "    def __init__(self, input_size, output_size, hidden_size, num_layers, dropout_rate=0.5):\n",
    "        super(Net, self).__init__()\n",
    "        \n",
    "        self.layer_1 = nn.Linear(input_size, hidden_size)\n",
    "        self.dropout = nn.Dropout(p=dropout_rate)  \n",
    "\n",
    "        self.hidden_layers = nn.ModuleList([\n",
    "            nn.Linear(hidden_size, hidden_size) for _ in range(num_layers)\n",
    "        ])\n",
    "        \n",
    "        self.output_layer = nn.Linear(hidden_size, output_size)\n",
    "\n",
    "    def forward(self, x):\n",
    "        x = torch.arctan(self.layer_1(x))\n",
    "        x = self.dropout(x)\n",
    "        \n",
    "        for layer in self.hidden_layers:\n",
    "            x = torch.arctan(layer(x))\n",
    "            x = self.dropout(x)\n",
    "        \n",
    "        x = self.output_layer(x)\n",
    "        return x"
   ]
  },
  {
   "cell_type": "markdown",
   "metadata": {},
   "source": [
    "### Data Preperation"
   ]
  },
  {
   "cell_type": "code",
   "execution_count": null,
   "metadata": {
    "ExecuteTime": {
     "end_time": "2024-11-01T10:17:07.918741Z",
     "start_time": "2024-11-01T10:17:07.916968Z"
    }
   },
   "outputs": [],
   "source": [
    "# Train\n",
    "df = pd.read_pickle(\"../../Data/train_spy_data.pkl\") \n",
    "\n",
    "display(df)\n",
    "\n",
    "train_inputs = df.iloc[:, :-1]\n",
    "\n",
    "scaler = MinMaxScaler()\n",
    "scaler_y = MinMaxScaler()\n",
    "\n",
    "scaled_train_inputs = scaler.fit_transform(df.iloc[:, 1:-1].values)  \n",
    "scaled_train_labels = scaler_y.fit_transform(df.iloc[:, -1].values.reshape(-1, 1))\n",
    "inputs_scaled = torch.tensor(scaled_train_inputs)\n",
    "labels_scaled = torch.tensor(scaled_train_labels)"
   ]
  },
  {
   "cell_type": "code",
   "execution_count": null,
   "metadata": {},
   "outputs": [],
   "source": [
    "# Test\n",
    "test_df = pd.read_pickle(\"../../Data/test_spy_data.pkl\")\n",
    "\n",
    "\n",
    "display(test_df)\n",
    "\n",
    "scaled_test_inputs = scaler.transform(test_df.iloc[:, 1:-1].values) \n",
    "scaled_test_labels = scaler_y.transform(test_df.iloc[:, -1].values.reshape(-1, 1))\n",
    "scaled_test_inputs = torch.tensor(scaled_test_inputs)\n",
    "scaled_test_labels = torch.tensor(scaled_test_labels)"
   ]
  },
  {
   "cell_type": "markdown",
   "metadata": {},
   "source": [
    "### Init"
   ]
  },
  {
   "cell_type": "code",
   "execution_count": null,
   "metadata": {
    "ExecuteTime": {
     "start_time": "2024-11-01T10:17:07.918078Z"
    }
   },
   "outputs": [],
   "source": [
    "# Initialize model, loss function, optimizer\n",
    "net = Net(input_size, output_size, hidden_size, num_layers)\n",
    "criterion = nn.MSELoss()\n",
    "optimizer = optim.Adam(net.parameters(), lr=learning_rate)"
   ]
  },
  {
   "cell_type": "markdown",
   "metadata": {},
   "source": [
    "### Training"
   ]
  },
  {
   "cell_type": "code",
   "execution_count": null,
   "metadata": {
    "ExecuteTime": {
     "end_time": "2024-11-01T10:17:07.922014Z",
     "start_time": "2024-11-01T10:17:07.920173Z"
    }
   },
   "outputs": [],
   "source": [
    "os.makedirs(\"../Models\", exist_ok=True)\n",
    "best_model_path = \"../Models/best_model.pt\"\n",
    "\n",
    "patience = 8\n",
    "loss_vals = []\n",
    "test_loss_vals = []\n",
    "best_test_loss = float(\"inf\")\n",
    "\n",
    "for epoch in range(num_epochs):\n",
    "    net.train()  \n",
    "    \n",
    "    optimizer.zero_grad()\n",
    "\n",
    "    outputs = net(inputs_scaled.float())\n",
    "    outputs = outputs.squeeze(-1)  \n",
    "\n",
    "    loss = criterion(outputs, labels_scaled.float())\n",
    "    \n",
    "    loss.backward()\n",
    "    optimizer.step()\n",
    "    \n",
    "    loss_vals.append(loss.item())\n",
    "\n",
    "    net.eval()\n",
    "    with torch.no_grad():\n",
    "        test_outputs = net(inputs_scaled.float())\n",
    "        test_outputs = test_outputs.squeeze(-1) \n",
    "        test_loss = criterion(test_outputs, scaled_test_labels.float())\n",
    "        test_loss_vals.append(test_loss.item())\n",
    "    \n",
    "        if test_loss < best_test_loss:\n",
    "            best_epoch = epoch\n",
    "            best_test_loss = test_loss\n",
    "            torch.save(net.state_dict(), best_model_path)\n",
    "            print(f\"Bestes Modell gespeichert mit Test Loss: {best_test_loss:.4f}\")\n",
    "            early_stopping_counter = 0\n",
    "        else:\n",
    "            early_stopping_counter += 1\n",
    "            \n",
    "        print(f\"Epoch {epoch + 1}/{num_epochs}, Train Loss: {loss:.4f}, Test Loss: {test_loss:.4f}\")\n",
    "        \n",
    "        # Early Stopping-Kriterium prüfen\n",
    "        if early_stopping_counter >= patience:\n",
    "            print(f\"Early stopping nach {epoch + 1} Epochen. Test loss verbesserte sich nicht in den letzten {patience} Epochen.\")\n",
    "            break\n",
    "\n",
    "# Plot der Trainings- und Testverluste\n",
    "plt.figure(figsize=(10, 5))\n",
    "plt.plot(loss_vals, label='Training Loss')\n",
    "plt.plot(test_loss_vals, label='Test Loss')\n",
    "plt.xlabel('Epochs')\n",
    "plt.ylabel('Loss')\n",
    "plt.legend()\n",
    "plt.title('Training und Test Loss')\n",
    "plt.grid(True)\n",
    "plt.show()\n",
    "\n",
    "print(f\"Training abgeschlossen. Bestes Modell gespeichert unter: {best_model_path}\")\n",
    "print(f\"Std Training Loss: {np.std(loss_vals)}\")\n",
    "print(f\"Std Test Loss: {np.std(test_loss_vals)}\")\n",
    "print(f\"Min Training Loss: {np.min(loss_vals)}\")\n",
    "print(f\"Min Test Loss: {np.min(test_loss_vals)}\")"
   ]
  },
  {
   "cell_type": "markdown",
   "metadata": {},
   "source": [
    "### Backtesting"
   ]
  },
  {
   "cell_type": "code",
   "execution_count": null,
   "metadata": {
    "ExecuteTime": {
     "end_time": "2024-11-01T10:17:07.928733Z",
     "start_time": "2024-11-01T10:17:07.924953Z"
    }
   },
   "outputs": [],
   "source": [
    "\n",
    "os.makedirs(\"logs\", exist_ok=True)\n",
    "os.makedirs(\"results\", exist_ok=True)\n",
    "\n",
    "test_data = pd.read_pickle(\"../../Data/test_spy_data.pkl\")\n",
    "train_data = pd.read_pickle(\"../../Data/train_spy_data.pkl\")\n",
    "\n",
    "\n",
    "scaler = MinMaxScaler()\n",
    "scaler.fit(train_data.iloc[:, 1:-1].values)\n",
    "\n",
    "scaler_y = MinMaxScaler()\n",
    "scaler_y.fit(train_data.iloc[:, -1].values.reshape(-1, 1))\n",
    "\n",
    "model = Net(input_size, output_size, hidden_size, num_layers)\n",
    "model_path = \"../Models/best_model.pt\"\n",
    "model.load_state_dict(torch.load(model_path))\n",
    "model.eval()\n",
    "\n",
    "ALPACA_CREDS = {\n",
    "    \"API_KEY\": os.getenv(\"ALPACA_API_KEY\"),\n",
    "    \"API_SECRET\": os.getenv(\"ALPACA_API_SECRET\"),\n",
    "    \"PAPER\": True,\n",
    "}\n",
    "\n",
    "# Strategy setup\n",
    "start_date = datetime(2023, 1, 1)\n",
    "end_date = datetime(2023, 12, 31)\n",
    "broker = Alpaca(ALPACA_CREDS)\n",
    "\n",
    "strategy = Backtest(\n",
    "    name=backtest_name,\n",
    "    broker=broker,\n",
    "    parameters={\n",
    "        \"symbol\": \"spy\",\n",
    "        \"cash_at_risk\": 0.5,\n",
    "        \"model\": model,\n",
    "        \"num_prior_days\": 30,\n",
    "        \"dataset\": test_data,\n",
    "        \"scaler\": scaler,\n",
    "        \"scaler_y\": scaler_y,\n",
    "    },\n",
    ")\n",
    "\n",
    "# Run backtest\n",
    "backtest_results = strategy.backtest(\n",
    "    YahooDataBacktesting,\n",
    "    start_date,\n",
    "    end_date,\n",
    "    name=backtest_name,\n",
    "    parameters={\n",
    "        \"symbol\": \"spy\",\n",
    "        \"cash_at_risk\": 0.5,\n",
    "        \"model\": model,\n",
    "        \"dataset\": test_data,\n",
    "        \"num_prior_days\": 30,\n",
    "        \"scaler\": scaler,\n",
    "        \"scaler_y\": scaler_y,\n",
    "    },\n",
    "    benchmark_asset=\"SPY\",\n",
    "    show_plot=True,\n",
    "    show_tearsheet=True,\n",
    ")\n",
    "\n",
    "# Save results\n",
    "pd.DataFrame(backtest_results).to_csv(\"results/backtest_results.csv.gz\", index=False, compression=\"gzip\")\n",
    "\n",
    "print(\"Backtesting complete. Results saved to backtest_results.csv.gz.\")"
   ]
  },
  {
   "cell_type": "code",
   "execution_count": null,
   "metadata": {
    "ExecuteTime": {
     "start_time": "2024-11-01T10:17:07.921380Z"
    }
   },
   "outputs": [],
   "source": [
    "\n",
    "# Backtesting-Funktion\n",
    "def backtest_model(model, x_data, y_data, scaler_y):\n",
    "    model.eval()\n",
    "    predictions = []\n",
    "    actuals = []\n",
    "\n",
    "    with torch.no_grad():\n",
    "        # Vorhersage\n",
    "        output = model(x_data)\n",
    "        predictions.extend(output.numpy())\n",
    "        actuals.extend(y_data.numpy())\n",
    "\n",
    "    # Rücktransformation der Vorhersagen und tatsächlichen Werte\n",
    "    predictions = scaler_y.inverse_transform(np.array(predictions).reshape(-1, 1))\n",
    "    actuals = scaler_y.inverse_transform(np.array(actuals).reshape(-1, 1))\n",
    "\n",
    "    return predictions.flatten(), actuals.flatten()\n",
    "\n",
    "# Backtesting starten\n",
    "def run_backtest(test_df, model_path, seq_size):\n",
    "    # Daten vorverarbeiten\n",
    "    scaler_X = MinMaxScaler()\n",
    "    scaler_y = MinMaxScaler()\n",
    "    train_data = pd.read_pickle(\"../../Data/train_spy_data.pkl\")\n",
    "\n",
    "    X_test = test_df.iloc[:, 1:-1]\n",
    "    y_test = test_df.iloc[:, -1]\n",
    "    scaler_X.fit(train_data.iloc[:, 1:-1].values)\n",
    "    scaler_y.fit(train_data.iloc[:, -1].values.reshape(-1, 1))\n",
    "\n",
    "\n",
    "    X_test_scaled = scaler_X.transform(X_test)\n",
    "    y_test_scaled = scaler_y.transform(y_test.values.reshape(-1, 1))\n",
    "    X_test_scaled = torch.tensor(X_test_scaled).float()\n",
    "    y_test_scaled = torch.tensor(y_test_scaled).float()\n",
    "\n",
    "    # Modell laden\n",
    "    model = Net(input_size=input_size, output_size=output_size, hidden_size=hidden_size, num_layers=num_layers)\n",
    "    model.load_state_dict(torch.load(model_path))\n",
    "    model.eval()\n",
    "\n",
    "    # Backtesting durchführen\n",
    "    predictions, actuals = backtest_model(model, X_test_scaled, y_test_scaled, scaler_y)\n",
    "\n",
    "    # Ergebnisse visualisieren\n",
    "    plt.figure(figsize=(14, 7))\n",
    "    plt.plot(predictions, label=\"Predicted\", color=\"blue\")\n",
    "    plt.plot(actuals, label=\"Actual\", color=\"orange\")\n",
    "    plt.title(\"Backtesting Results\")\n",
    "    plt.legend()\n",
    "    plt.show()\n",
    "\n",
    "    # Statistiken berechnen\n",
    "    df_results = pd.DataFrame({\"Actual\": actuals, \"Predicted\": predictions})\n",
    "    mse = ((df_results[\"Actual\"] - df_results[\"Predicted\"]) ** 2).mean()\n",
    "    mae = np.abs(df_results[\"Actual\"] - df_results[\"Predicted\"]).mean()\n",
    "    print(f\"Mean Squared Error (MSE): {mse:.2f}\")\n",
    "    print(f\"Mean Absolute Error (MAE): {mae:.2f}\")\n",
    "\n",
    "    return df_results\n",
    "\n",
    "# Anwendung der Backtesting-Funktion\n",
    "test_data = pd.read_pickle(\"../../Data/test_spy_data.pkl\")  # Testdatensatz laden\n",
    "model_path = \"../Models/best_model.pt\"  # Pfad zum gespeicherten Modell\n",
    "seq_size = 30  # Sequenzgröße\n",
    "\n",
    "results = run_backtest(test_data, model_path, seq_size)\n"
   ]
  },
  {
   "cell_type": "markdown",
   "metadata": {},
   "source": []
  }
 ],
 "metadata": {
  "kernelspec": {
   "display_name": "venv",
   "language": "python",
   "name": "python3"
  },
  "language_info": {
   "codemirror_mode": {
    "name": "ipython",
    "version": 3
   },
   "file_extension": ".py",
   "mimetype": "text/x-python",
   "name": "python",
   "nbconvert_exporter": "python",
   "pygments_lexer": "ipython3",
   "version": "3.11.5"
  }
 },
 "nbformat": 4,
 "nbformat_minor": 2
}
