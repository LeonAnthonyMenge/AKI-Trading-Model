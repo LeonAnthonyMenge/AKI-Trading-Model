{
 "cells": [
  {
   "cell_type": "markdown",
   "metadata": {},
   "source": [
    "# Collect Data for Test 2.3"
   ]
  },
  {
   "cell_type": "code",
   "execution_count": null,
   "metadata": {
    "ExecuteTime": {
     "start_time": "2024-11-01T10:13:12.240288Z"
    },
    "is_executing": true
   },
   "outputs": [],
   "source": [
    "import pandas as pd\n",
    "from datetime import datetime\n",
    "from data_collector import collect_data_inkl_news, determine_trend, get_news, sentiment_int\n",
    "import os\n",
    "import time"
   ]
  },
  {
   "cell_type": "code",
   "execution_count": null,
   "metadata": {},
   "outputs": [],
   "source": [
    "end_year = 2023\n",
    "symbol = \"SPY\""
   ]
  },
  {
   "cell_type": "markdown",
   "metadata": {},
   "source": [
    "## Training Data"
   ]
  },
  {
   "cell_type": "code",
   "execution_count": null,
   "metadata": {},
   "outputs": [],
   "source": [
    "periods = [(datetime(year, 1, 1), datetime(year, 12, 31)) for year in range(2015, end_year)]\n",
    "\n",
    "folder_path = \"../../Data/spy_data\"\n",
    "os.makedirs(folder_path, exist_ok=True)\n",
    "\n",
    "for start, end in periods:\n",
    "    df = collect_data_inkl_news(\n",
    "    symbol=symbol,\n",
    "    start=start,\n",
    "    end=end,\n",
    "    alpaca_symbol=\"SPY\" \n",
    "    )\n",
    "    df.to_csv(f\"{folder_path}/spy_{start}-{end}.csv\")\n",
    "    \n",
    "    # Avoid API overflow (only 200 free calls per minute)\n",
    "    #time.sleep(30)\n",
    "    \n"
   ]
  },
  {
   "cell_type": "code",
   "execution_count": null,
   "metadata": {},
   "outputs": [],
   "source": [
    "folder_path = \"../../Data/spy_data\"\n",
    "spy_files = os.listdir(folder_path)\n",
    "\n",
    "df_list = []\n",
    "for file in spy_files:\n",
    "    if file == \"spy_concat.csv\":\n",
    "        continue\n",
    "    df = pd.read_csv(f\"{folder_path}/{file}\")\n",
    "    df.drop(columns=[\"Unnamed: 0\"], inplace=True)\n",
    "    df_list.append(df)\n",
    "\n",
    "df_spy = pd.concat(df_list)\n",
    "df_spy.reset_index(inplace=True)\n",
    "df_spy = df_spy[[\"Date\", \"Open\", \"High\", \"Low\", \"Close\", \"Adj Close\", \"Volume\", \"month\", \"weekday\", \"news_probability\", \"news_sentiment\"]]\n",
    "df_spy[\"news_probability\"] = df_spy[\"news_probability\"].apply(lambda x: float(x.removeprefix(\"tensor(\").split(\",\")[0]))\n",
    "df_spy.to_csv(f\"{folder_path}/spy_concat.csv\")\n",
    "display(df_spy)\n"
   ]
  },
  {
   "cell_type": "code",
   "execution_count": null,
   "metadata": {},
   "outputs": [],
   "source": [
    "df_spy[\"trend\"] = df_spy.apply(determine_trend, axis=1)\n",
    "df_spy[\"sentiment_int\"] = df_spy.apply(sentiment_int, axis=1)\n",
    "df_train = df_spy.drop(columns=[\"Open\", \"Close\", \"month\", \"weekday\", \"High\", \"Low\", \"Adj Close\", \"Volume\", \"news_sentiment\"])\n",
    "\n",
    "df_train[\"positive\"] = (df_train[\"sentiment_int\"] == 1) * df_train[\"news_probability\"]\n",
    "df_train[\"negative\"] = (df_train[\"sentiment_int\"] == -1) * df_train[\"news_probability\"]\n",
    "df_train[\"neutral\"] = (df_train[\"sentiment_int\"] == 0) * df_train[\"news_probability\"]\n",
    "\n",
    "df_train['Invest'] = 0\n",
    "\n",
    "for index, row in df_train.iterrows():\n",
    "    if index > 0: \n",
    "        if df_train.at[index, \"trend\"] == 1:\n",
    "            df_train.at[index-1, \"Invest\"] = True\n",
    "        else:\n",
    "            df_train.at[index-1, \"Invest\"] = False\n",
    "\n",
    "\n",
    "\n",
    "\n",
    "df_train[\"Invest\"] = df_train[\"Invest\"].astype(bool)\n",
    "df_train = df_train[[\"Date\", \"positive\", \"negative\", \"neutral\", \"Invest\"]]\n",
    "df_train.sort_values(\"Date\", inplace=True)\n",
    "\n",
    "df_train.to_pickle(\"../../Data/spy_train_data.pkl.gz\", compression=\"gzip\")\n",
    "display(df_train)"
   ]
  },
  {
   "cell_type": "markdown",
   "metadata": {},
   "source": [
    "## Test Data"
   ]
  },
  {
   "cell_type": "code",
   "execution_count": null,
   "metadata": {},
   "outputs": [],
   "source": [
    "folder_path = \"../../Data/test_data\"\n",
    "os.makedirs(folder_path, exist_ok=True)\n",
    "\n",
    "df = collect_data_inkl_news(\n",
    "    symbol=symbol,\n",
    "    start=datetime(2022, 11, 1),\n",
    "    end=datetime(2023, 12, 31),\n",
    "    alpaca_symbol=\"SPY\" \n",
    ")\n",
    "df.to_csv(f\"{folder_path}/spy.csv\")"
   ]
  },
  {
   "cell_type": "code",
   "execution_count": null,
   "metadata": {},
   "outputs": [],
   "source": [
    "df = pd.read_csv(f\"{folder_path}/spy.csv\")\n",
    "\n",
    "df[\"trend\"] = df_spy.apply(determine_trend, axis=1)\n",
    "df[\"sentiment_int\"] = df.apply(sentiment_int, axis=1)\n",
    "df = df.drop(columns=[\"Open\", \"Close\", \"month\", \"weekday\", \"High\", \"Low\", \"Adj Close\", \"Volume\", \"news_sentiment\"])\n",
    "df[\"news_probability\"] = df[\"news_probability\"].apply(lambda x: float(x.removeprefix(\"tensor(\").split(\",\")[0]))\n",
    "\n",
    "df[\"positive\"] = (df[\"sentiment_int\"] == 1) * df[\"news_probability\"]\n",
    "df[\"negative\"] = (df[\"sentiment_int\"] == -1) * df[\"news_probability\"]\n",
    "df[\"neutral\"] = (df[\"sentiment_int\"] == 0) * df[\"news_probability\"]\n",
    "\n",
    "df['Invest'] = 0\n",
    "df.reset_index(inplace=True)\n",
    "\n",
    "for index, row in df.iterrows():\n",
    "    if index > 0: \n",
    "        if df.at[index, \"trend\"] == 1:\n",
    "            df.at[index-1, \"Invest\"] = True\n",
    "        else:\n",
    "            df.at[index-1, \"Invest\"] = False\n",
    "\n",
    "\n",
    "\n",
    "\n",
    "df[\"Invest\"] = df[\"Invest\"].astype(bool)\n",
    "df = df[[\"Date\", \"positive\", \"negative\", \"neutral\", \"Invest\"]]\n",
    "df.sort_values(\"Date\", inplace=True)\n",
    "\n",
    "df.to_pickle(\"../../Data/spy_test_data.pkl.gz\", compression=\"gzip\")\n",
    "display(df)"
   ]
  }
 ],
 "metadata": {
  "kernelspec": {
   "display_name": "venv",
   "language": "python",
   "name": "python3"
  },
  "language_info": {
   "codemirror_mode": {
    "name": "ipython",
    "version": 3
   },
   "file_extension": ".py",
   "mimetype": "text/x-python",
   "name": "python",
   "nbconvert_exporter": "python",
   "pygments_lexer": "ipython3",
   "version": "3.11.5"
  }
 },
 "nbformat": 4,
 "nbformat_minor": 2
}
