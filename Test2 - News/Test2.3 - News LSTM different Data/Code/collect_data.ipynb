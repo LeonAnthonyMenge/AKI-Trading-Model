{
 "cells": [
  {
   "cell_type": "markdown",
   "metadata": {},
   "source": [
    "# Collect Data for Test 2.3"
   ]
  },
  {
   "cell_type": "code",
   "execution_count": null,
   "metadata": {
    "ExecuteTime": {
     "start_time": "2024-11-01T10:13:12.240288Z"
    },
    "is_executing": true
   },
   "outputs": [],
   "source": [
    "import pandas as pd\n",
    "from datetime import datetime\n",
    "from data_collector import collect_data_inkl_news, determine_trend, sentiment_int\n",
    "import os\n",
    "from ta.momentum import RSIIndicator\n",
    "from ta.trend import MACD\n",
    "from ta.volatility import BollingerBands\n"
   ]
  },
  {
   "cell_type": "code",
   "execution_count": null,
   "metadata": {},
   "outputs": [],
   "source": [
    "end_year = 2023\n",
    "symbol = \"SPY\""
   ]
  },
  {
   "cell_type": "markdown",
   "metadata": {},
   "source": [
    "## Training Data"
   ]
  },
  {
   "cell_type": "code",
   "execution_count": null,
   "metadata": {},
   "outputs": [],
   "source": [
    "periods = [(datetime(year, 1, 1), datetime(year, 12, 31)) for year in range(2015, end_year)]\n",
    "\n",
    "folder_path = \"../../Data/spy_data\"\n",
    "os.makedirs(folder_path, exist_ok=True)\n",
    "\n",
    "for start, end in periods:\n",
    "    df = collect_data_inkl_news(\n",
    "    symbol=symbol,\n",
    "    start=start,\n",
    "    end=end,\n",
    "    alpaca_symbol=\"SPY\" \n",
    "    )\n",
    "    df.to_csv(f\"{folder_path}/spy_{start}-{end}.csv\")\n",
    "    \n",
    "    # Avoid API overflow (only 200 free calls per minute)\n",
    "    #time.sleep(30)\n",
    "    \n"
   ]
  },
  {
   "cell_type": "code",
   "execution_count": null,
   "metadata": {},
   "outputs": [],
   "source": [
    "folder_path = \"../../Data/\"\n",
    "spy_files = os.listdir(f\"{folder_path}spy_data\")\n",
    "\n",
    "df_list = []\n",
    "for file in spy_files:\n",
    "    if file == \"spy_concat.csv\":\n",
    "        continue\n",
    "    df = pd.read_csv(f\"{folder_path}spy_data/{file}\")\n",
    "    df.drop(columns=[\"Unnamed: 0\"], inplace=True)\n",
    "    df_list.append(df)\n",
    "\n",
    "df = pd.concat(df_list)\n",
    "\n",
    "df.reset_index(inplace=True)\n",
    "df = df[[\"Date\", \"Open\", \"High\", \"Low\", \"Close\", \"Adj Close\", \"Volume\", \"month\", \"weekday\", \"news_probability\", \"news_sentiment\"]]\n",
    "df[\"news_probability\"] = df[\"news_probability\"].apply(lambda x: float(x.removeprefix(\"tensor(\").split(\",\")[0]))\n",
    "\n",
    "df[\"trend\"] = df.apply(determine_trend, axis=1)\n",
    "df[\"sentiment_int\"] = df.apply(sentiment_int, axis=1)\n",
    "df = df.drop(columns=[\"news_sentiment\"])\n",
    "\n",
    "df['rsi'] = RSIIndicator(df['Close'], window=14).rsi()\n",
    "macd = MACD(close=df['Close'])\n",
    "df['macd'] = macd.macd()\n",
    "df['macd_signal'] = macd.macd_signal()\n",
    "bollinger = BollingerBands(close=df['Close'], window=20)\n",
    "df['bollinger_hband'] = bollinger.bollinger_hband()\n",
    "df['bollinger_lband'] = bollinger.bollinger_lband()\n",
    "\n",
    "df[\"moving_avg\"] = None\n",
    "df[\"moving_avg\"] = df[\"Close\"].shift(1).rolling(window=3).mean()\n",
    "\n",
    "df[\"month\"] = df[\"month\"].astype(int)\n",
    "df[\"weekday\"] = df[\"weekday\"].astype(int)\n",
    "\n",
    "df[\"positive\"] = (df[\"sentiment_int\"] == 1) * df[\"news_probability\"]\n",
    "df[\"negative\"] = (df[\"sentiment_int\"] == -1) * df[\"news_probability\"]\n",
    "df[\"neutral\"] = (df[\"sentiment_int\"] == 0) * df[\"news_probability\"]\n",
    "\n",
    "df[\"Y\"] = None\n",
    "df[\"Y\"] = df[\"Close\"].shift(-1)\n",
    "df.dropna(inplace=True)\n",
    "df.drop(columns=[\"news_probability\", \"sentiment_int\"], inplace=True)\n",
    "\n",
    "df.sort_values(\"Date\", inplace=True)\n",
    "\n",
    "df.to_pickle(f\"{folder_path}train_spy_data.pkl\")\n",
    "display(df)"
   ]
  },
  {
   "cell_type": "markdown",
   "metadata": {},
   "source": [
    "## Test Data"
   ]
  },
  {
   "cell_type": "code",
   "execution_count": null,
   "metadata": {},
   "outputs": [],
   "source": [
    "folder_path = \"../../Data/test_data\"\n",
    "os.makedirs(folder_path, exist_ok=True)\n",
    "\n",
    "df = collect_data_inkl_news(\n",
    "    symbol=symbol,\n",
    "    start=datetime(2022, 11, 1),\n",
    "    end=datetime(2023, 12, 31),\n",
    "    alpaca_symbol=\"SPY\" \n",
    ")\n",
    "df.to_csv(f\"{folder_path}/spy.csv\")"
   ]
  },
  {
   "cell_type": "code",
   "execution_count": null,
   "metadata": {},
   "outputs": [],
   "source": [
    "df = pd.read_csv(f\"{folder_path}/spy.csv\")\n",
    "\n",
    "df.reset_index(inplace=True)\n",
    "df = df[[\"Date\", \"Open\", \"High\", \"Low\", \"Close\", \"Adj Close\", \"Volume\", \"month\", \"weekday\", \"news_probability\", \"news_sentiment\"]]\n",
    "df[\"news_probability\"] = df[\"news_probability\"].apply(lambda x: float(x.removeprefix(\"tensor(\").split(\",\")[0]))\n",
    "\n",
    "df[\"trend\"] = df.apply(determine_trend, axis=1)\n",
    "df[\"sentiment_int\"] = df.apply(sentiment_int, axis=1)\n",
    "df = df.drop(columns=[\"news_sentiment\"])\n",
    "\n",
    "df['rsi'] = RSIIndicator(df['Close'], window=14).rsi()\n",
    "macd = MACD(close=df['Close'])\n",
    "df['macd'] = macd.macd()\n",
    "df['macd_signal'] = macd.macd_signal()\n",
    "bollinger = BollingerBands(close=df['Close'], window=20)\n",
    "df['bollinger_hband'] = bollinger.bollinger_hband()\n",
    "df['bollinger_lband'] = bollinger.bollinger_lband()\n",
    "\n",
    "df[\"moving_avg\"] = None\n",
    "df[\"moving_avg\"] = df[\"Close\"].shift(1).rolling(window=3).mean()\n",
    "\n",
    "df[\"month\"] = df[\"month\"].astype(int)\n",
    "df[\"weekday\"] = df[\"weekday\"].astype(int)\n",
    "\n",
    "df[\"positive\"] = (df[\"sentiment_int\"] == 1) * df[\"news_probability\"]\n",
    "df[\"negative\"] = (df[\"sentiment_int\"] == -1) * df[\"news_probability\"]\n",
    "df[\"neutral\"] = (df[\"sentiment_int\"] == 0) * df[\"news_probability\"]\n",
    "\n",
    "df[\"Y\"] = None\n",
    "df[\"Y\"] = df[\"Close\"].shift(-1)\n",
    "df.dropna(inplace=True)\n",
    "df.drop(columns=[\"news_probability\", \"sentiment_int\"], inplace=True)\n",
    "\n",
    "df.sort_values(\"Date\", inplace=True)\n",
    "\n",
    "df.to_pickle(f\"{folder_path}test_spy_data.pkl\")\n",
    "print(df.columns)\n",
    "display(df)"
   ]
  }
 ],
 "metadata": {
  "kernelspec": {
   "display_name": "venv",
   "language": "python",
   "name": "python3"
  },
  "language_info": {
   "codemirror_mode": {
    "name": "ipython",
    "version": 3
   },
   "file_extension": ".py",
   "mimetype": "text/x-python",
   "name": "python",
   "nbconvert_exporter": "python",
   "pygments_lexer": "ipython3",
   "version": "3.11.5"
  }
 },
 "nbformat": 4,
 "nbformat_minor": 2
}
