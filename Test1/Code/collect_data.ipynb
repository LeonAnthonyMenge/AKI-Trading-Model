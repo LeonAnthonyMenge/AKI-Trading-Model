{
 "cells": [
  {
   "cell_type": "markdown",
   "metadata": {},
   "source": [
    "# Collect Data for Test 1\n",
    "- YFinance Data\n",
    "- Weekdays (int)\n",
    "- Month (int)\n",
    "- Trend (int)\n",
    "- Buy or Sell"
   ]
  },
  {
   "cell_type": "code",
   "execution_count": null,
   "metadata": {
    "ExecuteTime": {
     "start_time": "2024-11-01T10:13:12.240288Z"
    },
    "is_executing": true
   },
   "outputs": [],
   "source": [
    "import pandas as pd\n",
    "from datetime import datetime\n",
    "from data_collector import get_finance_data, determine_trend"
   ]
  },
  {
   "cell_type": "markdown",
   "metadata": {},
   "source": [
    "## Training Data"
   ]
  },
  {
   "cell_type": "code",
   "execution_count": null,
   "metadata": {},
   "outputs": [],
   "source": [
    "df = get_finance_data(symbols=\"^GDAXI\", interval=\"1d\",start=datetime(2015, 1, 1), end=datetime(2022, 12, 31))\n",
    "\n",
    "df['trend'] = df.apply(determine_trend, axis=1)\n",
    "\n",
    "# Initialize the 'Invest' column\n",
    "df['Invest'] = 0\n",
    "\n",
    "for index, row in df.iterrows():\n",
    "    if index > 0: \n",
    "        if df.at[index, \"trend\"] == 1:\n",
    "            df.at[index-1, \"Invest\"] = True\n",
    "        else:\n",
    "            df.at[index-1, \"Invest\"] = False\n",
    "            \n",
    "df[\"month\"] = df[\"month\"].astype(int)\n",
    "df[\"Invest\"] = df[\"Invest\"].astype(bool)\n",
    "df.to_pickle(\"../Data/train_dax_data.pkl\")\n",
    "display(df)"
   ]
  },
  {
   "cell_type": "markdown",
   "metadata": {},
   "source": [
    "## Test Data"
   ]
  },
  {
   "cell_type": "code",
   "execution_count": null,
   "metadata": {},
   "outputs": [],
   "source": [
    "df = get_finance_data(symbols=\"^GDAXI\", interval=\"1d\", start=datetime(2023, 1, 1), end=datetime(2023, 12, 31))\n",
    "\n",
    "df['trend'] = df.apply(determine_trend, axis=1)\n",
    "\n",
    "# Initialize the 'Invest' column\n",
    "df['Invest'] = 0\n",
    "\n",
    "for index, row in df.iterrows():\n",
    "    if index > 0: \n",
    "        if df.at[index, \"trend\"] == 1:\n",
    "            df.at[index-1, \"Invest\"] = True\n",
    "        else:\n",
    "            df.at[index-1, \"Invest\"] = False\n",
    "\n",
    "df[\"month\"] = df[\"month\"].astype(int)\n",
    "df[\"Invest\"] = df[\"Invest\"].astype(bool)\n",
    "df.to_pickle(\"../Data/test_dax_data.pkl\")\n",
    "display(df)"
   ]
  },
  {
   "cell_type": "code",
   "execution_count": null,
   "metadata": {},
   "outputs": [],
   "source": []
  }
 ],
 "metadata": {
  "kernelspec": {
   "display_name": "venv",
   "language": "python",
   "name": "python3"
  },
  "language_info": {
   "codemirror_mode": {
    "name": "ipython",
    "version": 3
   },
   "file_extension": ".py",
   "mimetype": "text/x-python",
   "name": "python",
   "nbconvert_exporter": "python",
   "pygments_lexer": "ipython3",
   "version": "3.11.5"
  }
 },
 "nbformat": 4,
 "nbformat_minor": 2
}
