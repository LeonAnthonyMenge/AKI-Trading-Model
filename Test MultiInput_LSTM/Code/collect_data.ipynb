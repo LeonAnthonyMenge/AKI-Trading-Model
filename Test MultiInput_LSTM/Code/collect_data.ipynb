{
 "cells": [
  {
   "cell_type": "code",
   "execution_count": null,
   "metadata": {},
   "outputs": [],
   "source": [
    "import pandas as pd\n",
    "from datetime import datetime\n",
    "from data_collector import get_finance_data, collect_data_inkl_news, determine_trend, sentiment_int\n",
    "import os\n",
    "from functools import reduce\n",
    "from ta.momentum import RSIIndicator\n",
    "from ta.trend import MACD\n",
    "from ta.volatility import BollingerBands"
   ]
  },
  {
   "cell_type": "code",
   "execution_count": null,
   "metadata": {},
   "outputs": [],
   "source": [
    "os.makedirs(\"../Data\", exist_ok=True)"
   ]
  },
  {
   "cell_type": "markdown",
   "metadata": {},
   "source": [
    "# Training Data"
   ]
  },
  {
   "cell_type": "code",
   "execution_count": null,
   "metadata": {},
   "outputs": [],
   "source": [
    "train_start_date = datetime(2015, 1, 1)\n",
    "train_end_date = datetime(2022, 12, 31)\n",
    "symbol = \"SPY\""
   ]
  },
  {
   "cell_type": "markdown",
   "metadata": {},
   "source": [
    "## Fear and Greed Index"
   ]
  },
  {
   "cell_type": "code",
   "execution_count": null,
   "metadata": {},
   "outputs": [],
   "source": [
    "df = get_finance_data(symbol, start=train_start_date, end=train_end_date)\n",
    "f_and_g = pd.read_csv(\"https://raw.githubusercontent.com/whit3rabbit/fear-greed-data/main/fear-greed-2011-2023.csv\")\n",
    "df[\"Date\"] = pd.to_datetime(df[\"Date\"].astype(str))\n",
    "f_and_g[\"Date\"] = pd.to_datetime(f_and_g[\"Date\"])\n",
    "\n",
    "df = pd.merge(df, f_and_g, on=\"Date\", how=\"left\")\n",
    "df.reset_index(inplace=True, drop=True)\n",
    "df.sort_values([\"Date\"], inplace=True)\n",
    "\n",
    "df['rsi'] = RSIIndicator(df['Close'], window=14).rsi()\n",
    "macd = MACD(close=df['Close'])\n",
    "df['macd'] = macd.macd()\n",
    "df['macd_signal'] = macd.macd_signal()\n",
    "bollinger = BollingerBands(close=df['Close'], window=20)\n",
    "df['bollinger_hband'] = bollinger.bollinger_hband()\n",
    "df['bollinger_lband'] = bollinger.bollinger_lband()\n",
    "\n",
    "df[\"Y\"] = None\n",
    "for index, row in df.iterrows():\n",
    "    if index > 0:\n",
    "        df.at[index-1, \"Y\"] = df.at[index, \"Close\"]\n",
    "df.drop(df.tail(1).index,inplace=True)\n",
    "       \n",
    "df[\"month\"] = df[\"month\"].astype(int)\n",
    "df.dropna(inplace=True)\n",
    "df.sort_values([\"Date\"], inplace=True)\n",
    "\n",
    "df.to_pickle(\"../Data/train_f_and_g.pkl\")\n",
    "display(df)"
   ]
  },
  {
   "cell_type": "markdown",
   "metadata": {},
   "source": [
    "## News"
   ]
  },
  {
   "cell_type": "code",
   "execution_count": null,
   "metadata": {},
   "outputs": [],
   "source": [
    "start_year = train_start_date.year\n",
    "end_year = train_end_date.year\n",
    "\n",
    "folder_path = \"../Data/news_train\""
   ]
  },
  {
   "cell_type": "code",
   "execution_count": null,
   "metadata": {},
   "outputs": [],
   "source": [
    "periods = [(datetime(year, 1, 1), datetime(year, 12, 31)) for year in range(start_year, end_year+1)]\n",
    "\n",
    "os.makedirs(folder_path, exist_ok=True)\n",
    "\n",
    "for start, end in periods:\n",
    "    df = collect_data_inkl_news(\n",
    "    symbol=symbol,\n",
    "    start=start,\n",
    "    end=end,\n",
    "    alpaca_symbol=\"SPY\" \n",
    "    )\n",
    "    df.to_csv(f\"{folder_path}/spy_{start}-{end}.csv\")"
   ]
  },
  {
   "cell_type": "code",
   "execution_count": null,
   "metadata": {},
   "outputs": [],
   "source": [
    "spy_files = os.listdir(folder_path)\n",
    "\n",
    "df_list = []\n",
    "for file in spy_files:\n",
    "    if file == \"spy_concat.csv\":\n",
    "        continue\n",
    "    df = pd.read_csv(f\"{folder_path}/{file}\")\n",
    "    df.drop(columns=[\"Unnamed: 0\"], inplace=True)\n",
    "    df_list.append(df)\n",
    "\n",
    "df = pd.concat(df_list)\n",
    "df.sort_values([\"Date\"], inplace=True)\n",
    "\n",
    "df.reset_index(inplace=True)\n",
    "df = df[[\"Date\", \"Open\", \"High\", \"Low\", \"Close\", \"Adj Close\", \"Volume\", \"month\", \"weekday\", \"news_probability\", \"news_sentiment\"]]\n",
    "df[\"news_probability\"] = df[\"news_probability\"].apply(lambda x: float(x.removeprefix(\"tensor(\").split(\",\")[0]))\n",
    "\n",
    "df[\"trend\"] = df.apply(determine_trend, axis=1)\n",
    "df[\"sentiment_int\"] = df.apply(sentiment_int, axis=1)\n",
    "df = df.drop(columns=[\"news_sentiment\"])\n",
    "\n",
    "df['rsi'] = RSIIndicator(df['Close'], window=14).rsi()\n",
    "macd = MACD(close=df['Close'])\n",
    "df['macd'] = macd.macd()\n",
    "df['macd_signal'] = macd.macd_signal()\n",
    "bollinger = BollingerBands(close=df['Close'], window=20)\n",
    "df['bollinger_hband'] = bollinger.bollinger_hband()\n",
    "df['bollinger_lband'] = bollinger.bollinger_lband()\n",
    "\n",
    "df[\"moving_avg\"] = None\n",
    "df[\"Y\"] = None\n",
    "\n",
    "df[\"Y\"] = df[\"Close\"].shift(-1)\n",
    "df[\"moving_avg\"] = df[\"Close\"].shift(1).rolling(window=3).mean()\n",
    "df.dropna(inplace=True)\n",
    "\n",
    "df[\"month\"] = df[\"month\"].astype(int)\n",
    "df[\"weekday\"] = df[\"weekday\"].astype(int)\n",
    "df.sort_values([\"Date\"], inplace=True)\n",
    "\n",
    "df.to_pickle(f\"../Data/train_news.pkl\")\n",
    "display(df)"
   ]
  },
  {
   "cell_type": "markdown",
   "metadata": {},
   "source": [
    "## Commodities"
   ]
  },
  {
   "cell_type": "code",
   "execution_count": null,
   "metadata": {},
   "outputs": [],
   "source": [
    "commodities = [\n",
    "    \"CL=F\",  # WTI Crude Oil \n",
    "    \"BZ=F\",  # Brent Crude Oil \n",
    "    \"GC=F\",  # Gold \n",
    "    \"SI=F\",  # Silver \n",
    "    \"PL=F\",  # Platinum \n",
    "    \"PA=F\",  # Palladium \n",
    "    \"HG=F\",  # Copper \n",
    "    \"ZC=F\",  # Corn Futures \n",
    "    \"ZS=F\",  # Soybean Futures \n",
    "    \"ZW=F\",  # Wheat \n",
    "    \"KC=F\",  # Coffee \n",
    "    \"CC=F\",  # Cocoa \n",
    "    \"SB=F\",  # Sugar \n",
    "    \"NG=F\",  # Natural Gas \n",
    "    \"HO=F\",  # Heating Oil \n",
    "    # ETFs \n",
    "    \"GLD\",   # SPDR Gold \n",
    "    \"SLV\",   # iShares Silver \n",
    "    \"USO\",   # United States \n",
    "    \"UNG\"    # United States Natural Gas\n",
    "]"
   ]
  },
  {
   "cell_type": "code",
   "execution_count": null,
   "metadata": {},
   "outputs": [],
   "source": [
    "commodities.append(symbol)\n",
    "results = []\n",
    "\n",
    "for commodity in commodities:\n",
    "    df = get_finance_data(commodity, start=train_start_date, end=train_end_date)\n",
    "    if not commodity == symbol:\n",
    "        df = df[[\"Date\" ,\"Open\", \"Close\"]]\n",
    "    df = df.add_prefix(f\"{commodity}_\").rename(columns={f\"{commodity}_Date\": \"Date\"})\n",
    "    results.append(df)\n",
    "    \n",
    "df = reduce(lambda left, right: pd.merge(left, right, on=\"Date\", how=\"inner\"), results)\n",
    "df.rename(columns={\n",
    "    f\"{symbol}_Open\": \"Open\",\n",
    "    f\"{symbol}_Close\": \"Close\",\n",
    "}, inplace=True)\n",
    "\n",
    "correlation_results = {}\n",
    "\n",
    "# Exclude the main symbol from rolling correlation\n",
    "for commodity in commodities:\n",
    "    if commodity != symbol:\n",
    "        commodity_close_col = f\"{commodity}_Close\"\n",
    "        rolling_corr = df[\"Close\"].rolling(window=5).corr(df[commodity_close_col])\n",
    "        correlation_results[commodities.index(commodity)] = rolling_corr\n",
    "\n",
    "# Create a DataFrame for the rolling correlations\n",
    "correlation_df = pd.DataFrame(correlation_results)\n",
    "\n",
    "# For each row, find the commodity with the highest correlation\n",
    "df[\"Top_Correlation\"] = correlation_df.idxmax(axis=1)\n",
    "df[\"Top_Correlation_Value\"] = correlation_df.max(axis=1)\n",
    "\n",
    "df[\"Y\"] = None\n",
    "df[\"Y\"] = df[\"Close\"].shift(-1)\n",
    "df.dropna(inplace=True)\n",
    "df.sort_values([\"Date\"], inplace=True)\n",
    "\n",
    "df.to_pickle(\"../Data/commodities_train.pkl\")\n",
    "display(df)"
   ]
  },
  {
   "cell_type": "markdown",
   "metadata": {},
   "source": [
    "# Test Data"
   ]
  },
  {
   "cell_type": "code",
   "execution_count": null,
   "metadata": {},
   "outputs": [],
   "source": [
    "test_start_date = datetime(2022, 10, 1) # LSTM needs seq_size days before 2023\n",
    "test_end_date = datetime(2023, 12, 31)\n",
    "symbol = \"SPY\""
   ]
  },
  {
   "cell_type": "markdown",
   "metadata": {},
   "source": [
    "## Fear and Greed Index"
   ]
  },
  {
   "cell_type": "code",
   "execution_count": null,
   "metadata": {},
   "outputs": [],
   "source": [
    "df = get_finance_data(symbol, start=test_start_date, end=test_end_date)\n",
    "f_and_g = pd.read_csv(\"https://raw.githubusercontent.com/whit3rabbit/fear-greed-data/main/fear-greed-2011-2023.csv\")\n",
    "df[\"Date\"] = pd.to_datetime(df[\"Date\"].astype(str))\n",
    "f_and_g[\"Date\"] = pd.to_datetime(f_and_g[\"Date\"])\n",
    "\n",
    "df = pd.merge(df, f_and_g, on=\"Date\", how=\"left\")\n",
    "df.reset_index(inplace=True, drop=True)\n",
    "df.sort_values([\"Date\"], inplace=True)\n",
    "\n",
    "df['rsi'] = RSIIndicator(df['Close'], window=14).rsi()\n",
    "macd = MACD(close=df['Close'])\n",
    "df['macd'] = macd.macd()\n",
    "df['macd_signal'] = macd.macd_signal()\n",
    "bollinger = BollingerBands(close=df['Close'], window=20)\n",
    "df['bollinger_hband'] = bollinger.bollinger_hband()\n",
    "df['bollinger_lband'] = bollinger.bollinger_lband()\n",
    "\n",
    "df[\"Y\"] = None\n",
    "for index, row in df.iterrows():\n",
    "    if index > 0:\n",
    "        df.at[index-1, \"Y\"] = df.at[index, \"Close\"]\n",
    "df.drop(df.tail(1).index,inplace=True)\n",
    "       \n",
    "df[\"month\"] = df[\"month\"].astype(int)\n",
    "df.dropna(inplace=True)\n",
    "df.sort_values([\"Date\"], inplace=True)\n",
    "\n",
    "df.to_pickle(\"../Data/test_f_and_g.pkl\")\n",
    "display(df)"
   ]
  },
  {
   "cell_type": "markdown",
   "metadata": {},
   "source": [
    "## News"
   ]
  },
  {
   "cell_type": "code",
   "execution_count": null,
   "metadata": {},
   "outputs": [],
   "source": [
    "start_year = test_start_date.year\n",
    "end_year = test_end_date.year\n",
    "\n",
    "folder_path = \"../Data/news_test\""
   ]
  },
  {
   "cell_type": "code",
   "execution_count": null,
   "metadata": {},
   "outputs": [],
   "source": [
    "periods = [(datetime(year, 1, 1), datetime(year, 12, 31)) for year in range(start_year, end_year+1)]\n",
    "print(periods)\n",
    "os.makedirs(folder_path, exist_ok=True)\n",
    "\n",
    "for start, end in periods:\n",
    "    df = collect_data_inkl_news(\n",
    "    symbol=symbol,\n",
    "    start=start,\n",
    "    end=end,\n",
    "    alpaca_symbol=\"SPY\" \n",
    "    )\n",
    "    df.to_csv(f\"{folder_path}/spy_{start}-{end}.csv\")"
   ]
  },
  {
   "cell_type": "code",
   "execution_count": null,
   "metadata": {},
   "outputs": [],
   "source": [
    "spy_files = os.listdir(folder_path)\n",
    "\n",
    "df_list = []\n",
    "for file in spy_files:\n",
    "    if file == \"spy_concat.csv\":\n",
    "        continue\n",
    "    df = pd.read_csv(f\"{folder_path}/{file}\")\n",
    "    df.drop(columns=[\"Unnamed: 0\"], inplace=True)\n",
    "    df_list.append(df)\n",
    "\n",
    "df = pd.concat(df_list)\n",
    "df.sort_values([\"Date\"], inplace=True)\n",
    "\n",
    "df.reset_index(inplace=True)\n",
    "df = df[[\"Date\", \"Open\", \"High\", \"Low\", \"Close\", \"Adj Close\", \"Volume\", \"month\", \"weekday\", \"news_probability\", \"news_sentiment\"]]\n",
    "df[\"news_probability\"] = df[\"news_probability\"].apply(lambda x: float(x.removeprefix(\"tensor(\").split(\",\")[0]))\n",
    "\n",
    "df[\"trend\"] = df.apply(determine_trend, axis=1)\n",
    "df[\"sentiment_int\"] = df.apply(sentiment_int, axis=1)\n",
    "df = df.drop(columns=[\"news_sentiment\"])\n",
    "\n",
    "df['rsi'] = RSIIndicator(df['Close'], window=14).rsi()\n",
    "macd = MACD(close=df['Close'])\n",
    "df['macd'] = macd.macd()\n",
    "df['macd_signal'] = macd.macd_signal()\n",
    "bollinger = BollingerBands(close=df['Close'], window=20)\n",
    "df['bollinger_hband'] = bollinger.bollinger_hband()\n",
    "df['bollinger_lband'] = bollinger.bollinger_lband()\n",
    "\n",
    "df[\"moving_avg\"] = None\n",
    "df[\"Y\"] = None\n",
    "\n",
    "df[\"Y\"] = df[\"Close\"].shift(-1)\n",
    "df[\"moving_avg\"] = df[\"Close\"].shift(1).rolling(window=3).mean()\n",
    "df.dropna(inplace=True)\n",
    "\n",
    "df[\"month\"] = df[\"month\"].astype(int)\n",
    "df[\"weekday\"] = df[\"weekday\"].astype(int)\n",
    "df.sort_values([\"Date\"], inplace=True)\n",
    "\n",
    "df.to_pickle(f\"../Data/test_news.pkl\")\n",
    "display(df)"
   ]
  },
  {
   "cell_type": "markdown",
   "metadata": {},
   "source": [
    "## Commodities"
   ]
  },
  {
   "cell_type": "code",
   "execution_count": null,
   "metadata": {},
   "outputs": [],
   "source": [
    "commodities = [\n",
    "    \"CL=F\",  # WTI Crude Oil \n",
    "    \"BZ=F\",  # Brent Crude Oil \n",
    "    \"GC=F\",  # Gold \n",
    "    \"SI=F\",  # Silver \n",
    "    \"PL=F\",  # Platinum \n",
    "    \"PA=F\",  # Palladium \n",
    "    \"HG=F\",  # Copper \n",
    "    \"ZC=F\",  # Corn Futures \n",
    "    \"ZS=F\",  # Soybean Futures \n",
    "    \"ZW=F\",  # Wheat \n",
    "    \"KC=F\",  # Coffee \n",
    "    \"CC=F\",  # Cocoa \n",
    "    \"SB=F\",  # Sugar \n",
    "    \"NG=F\",  # Natural Gas \n",
    "    \"HO=F\",  # Heating Oil \n",
    "    # ETFs \n",
    "    \"GLD\",   # SPDR Gold \n",
    "    \"SLV\",   # iShares Silver \n",
    "    \"USO\",   # United States \n",
    "    \"UNG\"    # United States Natural Gas\n",
    "]"
   ]
  },
  {
   "cell_type": "code",
   "execution_count": null,
   "metadata": {},
   "outputs": [],
   "source": [
    "commodities.append(symbol)\n",
    "results = []\n",
    "\n",
    "for commodity in commodities:\n",
    "    df = get_finance_data(commodity, start=test_start_date, end=test_end_date)\n",
    "    if not commodity == symbol:\n",
    "        df = df[[\"Date\" ,\"Open\", \"Close\"]]\n",
    "    df = df.add_prefix(f\"{commodity}_\").rename(columns={f\"{commodity}_Date\": \"Date\"})\n",
    "    results.append(df)\n",
    "    \n",
    "df = reduce(lambda left, right: pd.merge(left, right, on=\"Date\", how=\"inner\"), results)\n",
    "df.rename(columns={\n",
    "    f\"{symbol}_Open\": \"Open\",\n",
    "    f\"{symbol}_Close\": \"Close\",\n",
    "}, inplace=True)\n",
    "\n",
    "correlation_results = {}\n",
    "\n",
    "# Exclude the main symbol from rolling correlation\n",
    "for commodity in commodities:\n",
    "    if commodity != symbol:\n",
    "        commodity_close_col = f\"{commodity}_Close\"\n",
    "        rolling_corr = df[\"Close\"].rolling(window=5).corr(df[commodity_close_col])\n",
    "        correlation_results[commodities.index(commodity)] = rolling_corr\n",
    "\n",
    "# Create a DataFrame for the rolling correlations\n",
    "correlation_df = pd.DataFrame(correlation_results)\n",
    "\n",
    "# For each row, find the commodity with the highest correlation\n",
    "df[\"Top_Correlation\"] = correlation_df.idxmax(axis=1)\n",
    "df[\"Top_Correlation_Value\"] = correlation_df.max(axis=1)\n",
    "\n",
    "df[\"Y\"] = None\n",
    "df[\"Y\"] = df[\"Close\"].shift(-1)\n",
    "df.dropna(inplace=True)\n",
    "df.sort_values([\"Date\"], inplace=True)\n",
    "\n",
    "df.to_pickle(\"../Data/commodities_test.pkl\")\n",
    "display(df)"
   ]
  }
 ],
 "metadata": {
  "kernelspec": {
   "display_name": "venv",
   "language": "python",
   "name": "python3"
  },
  "language_info": {
   "codemirror_mode": {
    "name": "ipython",
    "version": 3
   },
   "file_extension": ".py",
   "mimetype": "text/x-python",
   "name": "python",
   "nbconvert_exporter": "python",
   "pygments_lexer": "ipython3",
   "version": "3.11.5"
  }
 },
 "nbformat": 4,
 "nbformat_minor": 2
}
