{
 "cells": [
  {
   "cell_type": "markdown",
   "metadata": {},
   "source": [
    "# Collect Data for Test 3\n",
    "- YFinance Data\n",
    "- Weekdays (int)\n",
    "- Month (int)\n",
    "- Interest rate\n",
    "- Trend (int)\n",
    "- Buy or Sell"
   ]
  },
  {
   "cell_type": "code",
   "execution_count": null,
   "metadata": {
    "ExecuteTime": {
     "end_time": "2024-11-08T11:03:21.041519Z",
     "start_time": "2024-11-08T11:03:16.004828Z"
    },
    "is_executing": true
   },
   "outputs": [],
   "source": [
    "import pandas as pd\n",
    "from datetime import datetime, timedelta\n",
    "\n",
    "from pandas import to_datetime\n",
    "\n",
    "from data_collector import get_finance_data, determine_trend, get_ecb_interest_rates"
   ]
  },
  {
   "cell_type": "markdown",
   "metadata": {},
   "source": [
    "## Training Data"
   ]
  },
  {
   "cell_type": "code",
   "execution_count": null,
   "metadata": {
    "ExecuteTime": {
     "end_time": "2024-11-08T11:09:05.015221Z",
     "start_time": "2024-11-08T11:09:04.674403Z"
    }
   },
   "outputs": [],
   "source": [
    "start=\"2015-01-01\"\n",
    "end=\"2022-12-31\"\n",
    "start_dt=to_datetime(start)\n",
    "end_dt=to_datetime(end)\n",
    "\n",
    "df_dax = get_finance_data(symbols=\"^GDAXI\", interval=\"1d\",start=start_dt, end=end_dt)\n",
    "df_ecb = get_ecb_interest_rates(start, end)\n",
    "\n",
    "df = pd.merge(df_dax, df_ecb, left_on=\"Date\", right_on=\"DATE\", how=\"inner\")\n",
    "\n",
    "df['trend'] = df.apply(determine_trend, axis=1)\n",
    "\n",
    "# Initialize the 'Invest' column\n",
    "df['Invest'] = 0\n",
    "\n",
    "for index, row in df.iterrows():\n",
    "    if index > 0: \n",
    "        if df.at[index, \"trend\"] == 1:\n",
    "            df.at[index-1, \"Invest\"] = True\n",
    "        else:\n",
    "            df.at[index-1, \"Invest\"] = False\n",
    "            \n",
    "df[\"month\"] = df[\"month\"].astype(int)\n",
    "df[\"Invest\"] = df[\"Invest\"].astype(bool)\n",
    "df.to_pickle(\"../Data/train_dax_data.pkl\")\n",
    "display(df)"
   ]
  },
  {
   "cell_type": "markdown",
   "metadata": {},
   "source": [
    "## Test Data"
   ]
  },
  {
   "cell_type": "code",
   "execution_count": null,
   "metadata": {
    "ExecuteTime": {
     "end_time": "2024-11-08T11:10:33.292788Z",
     "start_time": "2024-11-08T11:10:33.223967Z"
    }
   },
   "outputs": [],
   "source": [
    "start_dt=datetime(2023,1,1)-timedelta(40)\n",
    "end_dt=datetime(2023,12,31)\n",
    "\n",
    "df_dax = get_finance_data(symbols=\"^GDAXI\", interval=\"1d\",start=start_dt, end=end_dt)\n",
    "df_ecb = get_ecb_interest_rates(start_dt, end_dt)\n",
    "\n",
    "df = pd.merge(df_dax, df_ecb, left_on=\"Date\", right_on=\"DATE\", how=\"inner\")\n",
    "\n",
    "df['trend'] = df.apply(determine_trend, axis=1)\n",
    "\n",
    "# Initialize the 'Invest' column\n",
    "df['Invest'] = 0\n",
    "\n",
    "for index, row in df.iterrows():\n",
    "    if index > 0: \n",
    "        if df.at[index, \"trend\"] == 1:\n",
    "            df.at[index-1, \"Invest\"] = True\n",
    "        else:\n",
    "            df.at[index-1, \"Invest\"] = False\n",
    "\n",
    "df[\"month\"] = df[\"month\"].astype(int)\n",
    "df[\"Invest\"] = df[\"Invest\"].astype(bool)\n",
    "df.to_pickle(\"../Data/test_dax_data.pkl\")\n",
    "display(df)"
   ]
  },
  {
   "cell_type": "code",
   "execution_count": null,
   "metadata": {
    "ExecuteTime": {
     "end_time": "2024-11-08T09:44:43.341645Z",
     "start_time": "2024-11-08T09:44:43.336612Z"
    }
   },
   "outputs": [],
   "source": []
  }
 ],
 "metadata": {
  "kernelspec": {
   "display_name": ".venv",
   "language": "python",
   "name": "python3"
  },
  "language_info": {
   "codemirror_mode": {
    "name": "ipython",
    "version": 3
   },
   "file_extension": ".py",
   "mimetype": "text/x-python",
   "name": "python",
   "nbconvert_exporter": "python",
   "pygments_lexer": "ipython3",
   "version": "3.11.9"
  }
 },
 "nbformat": 4,
 "nbformat_minor": 2
}
