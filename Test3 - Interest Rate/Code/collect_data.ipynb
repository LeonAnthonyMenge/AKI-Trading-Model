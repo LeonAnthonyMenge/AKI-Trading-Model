{
 "cells": [
  {
   "cell_type": "markdown",
   "metadata": {},
   "source": [
    "# Collect Data for Test 3\n",
    "- YFinance Data\n",
    "- Weekdays (int)\n",
    "- Month (int)\n",
    "- Interest rate"
   ]
  },
  {
   "cell_type": "code",
   "execution_count": null,
   "metadata": {
    "is_executing": true
   },
   "outputs": [],
   "source": [
    "import pandas as pd\n",
    "from pandas import to_datetime\n",
    "from data_collector import get_finance_data, get_ecb_interest_rates\n",
    "import os"
   ]
  },
  {
   "cell_type": "markdown",
   "metadata": {},
   "source": [
    "## Training Data"
   ]
  },
  {
   "cell_type": "code",
   "execution_count": null,
   "metadata": {},
   "outputs": [],
   "source": [
    "os.makedirs(\"../Data\", exist_ok=True)\n",
    "\n",
    "start=\"2015-01-01\"\n",
    "end=\"2022-12-31\"\n",
    "start_dt=to_datetime(start)\n",
    "end_dt=to_datetime(end)\n",
    "\n",
    "df_dax = get_finance_data(symbols=\"^GDAXI\", interval=\"1d\",start=start_dt, end=end_dt)\n",
    "df_dax.reset_index(inplace=True)\n",
    "df_ecb = get_ecb_interest_rates(start, end)\n",
    "\n",
    "df = pd.merge(df_dax, df_ecb, left_on=\"Date\", right_on=\"DATE\", how=\"inner\")\n",
    "\n",
    "df[\"Y\"] = None\n",
    "for index, row in df.iterrows():\n",
    "    if index > 0:\n",
    "        df.at[index-1, \"Y\"] = df.at[index, \"Close\"]\n",
    "df.drop(df.tail(1).index,inplace=True)\n",
    "       \n",
    "df[\"month\"] = df[\"month\"].astype(int)\n",
    "df.to_pickle(\"../Data/train_dax_data.pkl\")\n",
    "display(df)"
   ]
  },
  {
   "cell_type": "markdown",
   "metadata": {},
   "source": [
    "## Test Data"
   ]
  },
  {
   "cell_type": "code",
   "execution_count": null,
   "metadata": {},
   "outputs": [],
   "source": [
    "start=\"2022-09-01\"\n",
    "end=\"2023-12-31\"\n",
    "start_dt=to_datetime(start)\n",
    "end_dt=to_datetime(end)\n",
    "\n",
    "df_dax = get_finance_data(symbols=\"^GDAXI\", interval=\"1d\",start=start_dt, end=end_dt)\n",
    "df_dax.reset_index(inplace=True)\n",
    "df_ecb = get_ecb_interest_rates(start, end)\n",
    "\n",
    "df = pd.merge(df_dax, df_ecb, left_on=\"Date\", right_on=\"DATE\", how=\"inner\")\n",
    "\n",
    "df[\"Y\"] = None\n",
    "for index, row in df.iterrows():\n",
    "    if index > 0:\n",
    "        df.at[index-1, \"Y\"] = df.at[index, \"Close\"]\n",
    "df.drop(df.tail(1).index,inplace=True)\n",
    "       \n",
    "df[\"month\"] = df[\"month\"].astype(int)\n",
    "df.to_pickle(\"../Data/test_dax_data.pkl\")\n",
    "display(df)"
   ]
  }
 ],
 "metadata": {
  "kernelspec": {
   "display_name": ".venv",
   "language": "python",
   "name": "python3"
  },
  "language_info": {
   "codemirror_mode": {
    "name": "ipython",
    "version": 3
   },
   "file_extension": ".py",
   "mimetype": "text/x-python",
   "name": "python",
   "nbconvert_exporter": "python",
   "pygments_lexer": "ipython3",
   "version": "3.11.9"
  }
 },
 "nbformat": 4,
 "nbformat_minor": 2
}
